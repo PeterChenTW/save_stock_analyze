{
 "cells": [
  {
   "cell_type": "code",
   "execution_count": 1,
   "metadata": {},
   "outputs": [],
   "source": [
    "import numpy as np\n",
    "import pandas as pd\n",
    "from collections import deque\n",
    "import matplotlib.pyplot as plt\n",
    "import seaborn as sns"
   ]
  },
  {
   "cell_type": "code",
   "execution_count": 2,
   "metadata": {},
   "outputs": [],
   "source": [
    "stock_data_file_name = '0050.TW.csv'\n",
    "data_stock = pd.read_csv(stock_data_file_name)\n",
    "data_stock['Date'] = pd.to_datetime(data_stock['Date'])"
   ]
  },
  {
   "cell_type": "code",
   "execution_count": 3,
   "metadata": {},
   "outputs": [
    {
     "data": {
      "text/html": [
       "<div>\n",
       "<style scoped>\n",
       "    .dataframe tbody tr th:only-of-type {\n",
       "        vertical-align: middle;\n",
       "    }\n",
       "\n",
       "    .dataframe tbody tr th {\n",
       "        vertical-align: top;\n",
       "    }\n",
       "\n",
       "    .dataframe thead th {\n",
       "        text-align: right;\n",
       "    }\n",
       "</style>\n",
       "<table border=\"1\" class=\"dataframe\">\n",
       "  <thead>\n",
       "    <tr style=\"text-align: right;\">\n",
       "      <th></th>\n",
       "      <th>Date</th>\n",
       "      <th>Dividends</th>\n",
       "    </tr>\n",
       "  </thead>\n",
       "  <tbody>\n",
       "    <tr>\n",
       "      <th>0</th>\n",
       "      <td>2020-07-21</td>\n",
       "      <td>0.7</td>\n",
       "    </tr>\n",
       "    <tr>\n",
       "      <th>1</th>\n",
       "      <td>2020-01-31</td>\n",
       "      <td>2.9</td>\n",
       "    </tr>\n",
       "    <tr>\n",
       "      <th>2</th>\n",
       "      <td>2019-07-19</td>\n",
       "      <td>0.7</td>\n",
       "    </tr>\n",
       "    <tr>\n",
       "      <th>3</th>\n",
       "      <td>2019-01-22</td>\n",
       "      <td>2.3</td>\n",
       "    </tr>\n",
       "    <tr>\n",
       "      <th>4</th>\n",
       "      <td>2018-07-23</td>\n",
       "      <td>0.7</td>\n",
       "    </tr>\n",
       "  </tbody>\n",
       "</table>\n",
       "</div>"
      ],
      "text/plain": [
       "        Date  Dividends\n",
       "0 2020-07-21        0.7\n",
       "1 2020-01-31        2.9\n",
       "2 2019-07-19        0.7\n",
       "3 2019-01-22        2.3\n",
       "4 2018-07-23        0.7"
      ]
     },
     "execution_count": 3,
     "metadata": {},
     "output_type": "execute_result"
    }
   ],
   "source": [
    "data_dividend = pd.read_csv('0050_dividend.csv')\n",
    "data_dividend.iloc[0, 2] = 0.7\n",
    "data_dividend['Date'] = pd.to_datetime(data_dividend['Date'])\n",
    "data_dividend = data_dividend[['Date', 'Cash Dividend']]\n",
    "data_dividend.columns = ['Date', 'Dividends']\n",
    "data_dividend = data_dividend[data_stock['Date'].min() < data_dividend['Date']]\n",
    "data_dividend.head()"
   ]
  },
  {
   "cell_type": "code",
   "execution_count": 4,
   "metadata": {},
   "outputs": [],
   "source": [
    "data_stock = data_stock.dropna()"
   ]
  },
  {
   "cell_type": "code",
   "execution_count": 5,
   "metadata": {},
   "outputs": [],
   "source": [
    "data = data_stock.set_index('Date').join(data_dividend.set_index('Date'), on='Date')"
   ]
  },
  {
   "cell_type": "code",
   "execution_count": 6,
   "metadata": {},
   "outputs": [
    {
     "data": {
      "text/html": [
       "<div>\n",
       "<style scoped>\n",
       "    .dataframe tbody tr th:only-of-type {\n",
       "        vertical-align: middle;\n",
       "    }\n",
       "\n",
       "    .dataframe tbody tr th {\n",
       "        vertical-align: top;\n",
       "    }\n",
       "\n",
       "    .dataframe thead th {\n",
       "        text-align: right;\n",
       "    }\n",
       "</style>\n",
       "<table border=\"1\" class=\"dataframe\">\n",
       "  <thead>\n",
       "    <tr style=\"text-align: right;\">\n",
       "      <th></th>\n",
       "      <th>Open</th>\n",
       "      <th>High</th>\n",
       "      <th>Low</th>\n",
       "      <th>Close</th>\n",
       "      <th>Adj Close</th>\n",
       "      <th>Volume</th>\n",
       "      <th>Dividends</th>\n",
       "    </tr>\n",
       "    <tr>\n",
       "      <th>Date</th>\n",
       "      <th></th>\n",
       "      <th></th>\n",
       "      <th></th>\n",
       "      <th></th>\n",
       "      <th></th>\n",
       "      <th></th>\n",
       "      <th></th>\n",
       "    </tr>\n",
       "  </thead>\n",
       "  <tbody>\n",
       "    <tr>\n",
       "      <th>2007-12-31</th>\n",
       "      <td>61.450001</td>\n",
       "      <td>61.700001</td>\n",
       "      <td>61.049999</td>\n",
       "      <td>61.450001</td>\n",
       "      <td>49.378479</td>\n",
       "      <td>2870000.0</td>\n",
       "      <td>NaN</td>\n",
       "    </tr>\n",
       "    <tr>\n",
       "      <th>2008-01-02</th>\n",
       "      <td>60.099998</td>\n",
       "      <td>61.299999</td>\n",
       "      <td>60.000000</td>\n",
       "      <td>60.099998</td>\n",
       "      <td>48.293678</td>\n",
       "      <td>4975000.0</td>\n",
       "      <td>NaN</td>\n",
       "    </tr>\n",
       "    <tr>\n",
       "      <th>2008-01-03</th>\n",
       "      <td>59.099998</td>\n",
       "      <td>59.349998</td>\n",
       "      <td>58.599998</td>\n",
       "      <td>59.099998</td>\n",
       "      <td>47.490124</td>\n",
       "      <td>7413000.0</td>\n",
       "      <td>NaN</td>\n",
       "    </tr>\n",
       "    <tr>\n",
       "      <th>2008-01-04</th>\n",
       "      <td>59.099998</td>\n",
       "      <td>59.349998</td>\n",
       "      <td>58.049999</td>\n",
       "      <td>59.099998</td>\n",
       "      <td>47.490124</td>\n",
       "      <td>7686000.0</td>\n",
       "      <td>NaN</td>\n",
       "    </tr>\n",
       "    <tr>\n",
       "      <th>2008-01-07</th>\n",
       "      <td>56.400002</td>\n",
       "      <td>57.599998</td>\n",
       "      <td>56.299999</td>\n",
       "      <td>56.400002</td>\n",
       "      <td>45.320530</td>\n",
       "      <td>20041000.0</td>\n",
       "      <td>NaN</td>\n",
       "    </tr>\n",
       "  </tbody>\n",
       "</table>\n",
       "</div>"
      ],
      "text/plain": [
       "                 Open       High        Low      Close  Adj Close      Volume  \\\n",
       "Date                                                                            \n",
       "2007-12-31  61.450001  61.700001  61.049999  61.450001  49.378479   2870000.0   \n",
       "2008-01-02  60.099998  61.299999  60.000000  60.099998  48.293678   4975000.0   \n",
       "2008-01-03  59.099998  59.349998  58.599998  59.099998  47.490124   7413000.0   \n",
       "2008-01-04  59.099998  59.349998  58.049999  59.099998  47.490124   7686000.0   \n",
       "2008-01-07  56.400002  57.599998  56.299999  56.400002  45.320530  20041000.0   \n",
       "\n",
       "            Dividends  \n",
       "Date                   \n",
       "2007-12-31        NaN  \n",
       "2008-01-02        NaN  \n",
       "2008-01-03        NaN  \n",
       "2008-01-04        NaN  \n",
       "2008-01-07        NaN  "
      ]
     },
     "execution_count": 6,
     "metadata": {},
     "output_type": "execute_result"
    }
   ],
   "source": [
    "data.head()"
   ]
  },
  {
   "cell_type": "code",
   "execution_count": 7,
   "metadata": {},
   "outputs": [],
   "source": [
    "class StockProcess:\n",
    "    def __init__(self):\n",
    "        self.stock = deque()\n",
    "        self.total_stock = 0\n",
    "        self.total_cost = 0\n",
    "        self.money_cost = 0\n",
    "        \n",
    "    def buy(self, price, count):\n",
    "        self.stock.append((price, count))\n",
    "        self.total_stock += count\n",
    "        self.total_cost += price * count\n",
    "        self.money_cost += price * count + 20\n",
    "        \n",
    "    def get_divident(self, divident):\n",
    "        total = divident * self.total_stock\n",
    "        self.total_cost -= total\n",
    "        return total\n",
    "        \n",
    "    def avg_cost(self):\n",
    "        return self.total_cost/self.total_stock\n",
    "    \n",
    "    def compute_value(self, stock_price):\n",
    "        return stock_price * self.total_stock\n",
    "    \n",
    "    def return_rate(self, stock_price):\n",
    "        if self.total_stock:\n",
    "            return stock_price * self.total_stock / self.money_cost - 1\n",
    "        return 0"
   ]
  },
  {
   "cell_type": "code",
   "execution_count": 8,
   "metadata": {},
   "outputs": [
    {
     "name": "stdout",
     "output_type": "stream",
     "text": [
      "Date: 2008-10-24, Get divident: 18690.32736464236\n",
      "Date: 2009-10-23, Get divident: 27396.71806699814\n",
      "Date: 2010-10-25, Get divident: 80299.37974739591\n",
      "Date: 2011-10-26, Get divident: 88240.85023064636\n",
      "Date: 2012-10-24, Get divident: 101188.31197127863\n",
      "Date: 2013-10-24, Get divident: 85814.61954660874\n",
      "Date: 2014-10-24, Get divident: 111017.7965164767\n",
      "Date: 2015-10-26, Get divident: 158434.7696986796\n",
      "Date: 2016-07-28, Get divident: 72638.77712193882\n",
      "Date: 2017-07-31, Get divident: 64563.369394537855\n",
      "Date: 2018-01-29, Get divident: 209509.04666854755\n",
      "Date: 2018-07-23, Get divident: 68537.26939453786\n",
      "Date: 2019-01-22, Get divident: 232335.3851534815\n",
      "Date: 2019-07-19, Get divident: 72829.66939453785\n",
      "Date: 2020-01-31, Get divident: 309938.6160630854\n",
      "Date: 2020-07-21, Get divident: 76768.56939453786\n"
     ]
    }
   ],
   "source": [
    "litte_c = StockProcess()\n",
    "start_date = pd.to_datetime('2008-01-01')\n",
    "end_date = pd.to_datetime('2020-10-25')\n",
    "money = 10000\n",
    "return_rate_list = []\n",
    "data['return_rate'] = 0\n",
    "\n",
    "fix_buy_count = False\n",
    "\n",
    "for day, price in data.iterrows():\n",
    "    if start_date < day <= end_date:\n",
    "        if not np.isnan(price['Dividends']):\n",
    "            total_div = litte_c.get_divident(price['Dividends'])\n",
    "            print(f'Date: {day.date()}, Get divident: {total_div}')\n",
    "        # 固定星期三 買\n",
    "        # 依照 報酬率決定買的股數\n",
    "        if day.dayofweek == 2:\n",
    "            buy_price = (price['Open'] + price['Close'])/2\n",
    "            return_rate = litte_c.return_rate(buy_price)\n",
    "            if fix_buy_count:\n",
    "                buy_count = 100\n",
    "            else:\n",
    "                buy_count = int(money/buy_price)\n",
    "            if return_rate < 0:\n",
    "                buy_count *= abs(return_rate)*3+1\n",
    "            litte_c.buy(buy_price, buy_count)\n",
    "    return_rate = litte_c.return_rate(price['Close'])\n",
    "    data.loc[day, 'return_rate'] = return_rate\n"
   ]
  },
  {
   "cell_type": "code",
   "execution_count": 9,
   "metadata": {},
   "outputs": [
    {
     "data": {
      "image/png": "[encoded data removed]",
      "text/plain": [
       "<Figure size 432x288 with 1 Axes>"
      ]
     },
     "metadata": {},
     "output_type": "display_data"
    }
   ],
   "source": [
    "sns.set_style('darkgrid')\n",
    "sns.lineplot(data=data, x='Date', y='return_rate')\n",
    "plt.show()"
   ]
  },
  {
   "cell_type": "code",
   "execution_count": 10,
   "metadata": {},
   "outputs": [
    {
     "name": "stdout",
     "output_type": "stream",
     "text": [
      "money cost: 6646172.59917513,\n",
      "pure earn: 5010022.810005548, \n",
      "final return rate: 0.7538207494983433\n"
     ]
    }
   ],
   "source": [
    "print(f\"\"\"money cost: {litte_c.money_cost},\n",
    "pure earn: {litte_c.compute_value(data.iloc[-1,:]['Close']) - litte_c.money_cost}, \n",
    "final return rate: {data.iloc[-1,:]['return_rate']}\"\"\")"
   ]
  },
  {
   "cell_type": "code",
   "execution_count": null,
   "metadata": {},
   "outputs": [],
   "source": []
  }
 ],
 "metadata": {
  "kernelspec": {
   "display_name": "Python 3",
   "language": "python",
   "name": "python3"
  },
  "language_info": {
   "codemirror_mode": {
    "name": "ipython",
    "version": 3
   },
   "file_extension": ".py",
   "mimetype": "text/x-python",
   "name": "python",
   "nbconvert_exporter": "python",
   "pygments_lexer": "ipython3",
   "version": "3.6.5"
  },
  "pycharm": {
   "stem_cell": {
    "cell_type": "raw",
    "metadata": {
     "collapsed": false
    },
    "source": []
   }
  }
 },
 "nbformat": 4,
 "nbformat_minor": 1
}
